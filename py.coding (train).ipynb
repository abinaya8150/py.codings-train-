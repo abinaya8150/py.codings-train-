{
 "cells": [
  {
   "cell_type": "markdown",
   "id": "4b448f91",
   "metadata": {},
   "source": [
    "# class Train:\n",
    "    def __init__(self, train_type, punctuality, chained_to_next_trip):\n",
    "        self.train_type = train_type\n",
    "        self.punctuality = punctuality\n",
    "        self.chained_to_next_trip = chained_to_next_trip\n",
    "\n",
    "# Create sample trains\n",
    "revenue_train1 = Train(\"revenue\", True, True)\n",
    "revenue_train2 = Train(\"revenue\", False, False)\n",
    "equipment_train1 = Train(\"equipment\", True, True)\n",
    "equipment_train2 = Train(\"equipment\", True, False)\n",
    "\n",
    "# Define a function to prioritize trains\n",
    "def prioritize_trains(trains):\n",
    "    # Priority 1: Type of train (revenue train first)\n",
    "    trains.sort(key=lambda x: x.train_type == \"revenue\", reverse=True)\n",
    "    \n",
    "    # Priority 2: Punctuality (on-time performance)\n",
    "    trains.sort(key=lambda x: x.punctuality, reverse=True)\n",
    "    \n",
    "    # Priority 3: Chained trip (trains chained to the next trip)\n",
    "    trains.sort(key=lambda x: x.chained_to_next_trip, reverse=True)\n",
    "\n",
    "    return trains\n",
    "\n",
    "#Combine all trains\n",
    "all_trains = [revenue_train1, revenue_train2, equipment_train1, equipment_train2]\n",
    "\n",
    "# Prioritize the trains\n",
    "prioritized_trains = prioritize_trains(all_trains)\n",
    "\n",
    "### Display the prioritized trains\n",
    "for train in prioritized_trains:\n",
    "    print(f\"Train Type: {train.train_type}, Punctuality: {train.punctuality}, Chained to Next Trip: {train.chained_to_next_trip}\")\n"
   ]
  },
  {
   "cell_type": "code",
   "execution_count": 14,
   "id": "d8bc9097",
   "metadata": {},
   "outputs": [
    {
     "name": "stdout",
     "output_type": "stream",
     "text": [
      "Train Type: revenue, Punctuality: True, Chained to Next Trip: True\n",
      "Train Type: equipment, Punctuality: True, Chained to Next Trip: True\n",
      "Train Type: equipment, Punctuality: True, Chained to Next Trip: False\n",
      "Train Type: revenue, Punctuality: False, Chained to Next Trip: False\n"
     ]
    }
   ],
   "source": [
    "class Train:\n",
    "    def __init__(self, train_type, punctuality, chained_to_next_trip):\n",
    "        self.train_type = train_type\n",
    "        self.punctuality = punctuality\n",
    "        self.chained_to_next_trip = chained_to_next_trip\n",
    "\n",
    "# Create sample trains\n",
    "revenue_train1 = Train(\"revenue\", True, True)\n",
    "revenue_train2 = Train(\"revenue\", False, False)\n",
    "equipment_train1 = Train(\"equipment\", True, True)\n",
    "equipment_train2 = Train(\"equipment\", True, False)\n",
    "\n",
    "# Define a function to prioritize trains\n",
    "def prioritize_trains(trains):\n",
    "    # Priority 1: Type of train (revenue train first)\n",
    "    trains.sort(key=lambda x: x.train_type == \"revenue\", reverse=True)\n",
    "    \n",
    "    # Priority 2: Punctuality (on-time performance)\n",
    "    trains.sort(key=lambda x: x.punctuality, reverse=True)\n",
    "    \n",
    "    # Priority 3: Chained trip (trains chained to the next trip)\n",
    "    trains.sort(key=lambda x: x.chained_to_next_trip, reverse=True)\n",
    "\n",
    "    return trains\n",
    "\n",
    "# Combine all trains\n",
    "all_trains = [revenue_train1, revenue_train2, equipment_train1, equipment_train2]\n",
    "\n",
    "# Prioritize the trains\n",
    "prioritized_trains = prioritize_trains(all_trains)\n",
    "\n",
    "# Display the prioritized trains\n",
    "for train in prioritized_trains:\n",
    "    print(f\"Train Type: {train.train_type}, Punctuality: {train.punctuality}, Chained to Next Trip: {train.chained_to_next_trip}\")\n"
   ]
  },
  {
   "cell_type": "code",
   "execution_count": null,
   "id": "400b0c29",
   "metadata": {},
   "outputs": [],
   "source": []
  }
 ],
 "metadata": {
  "kernelspec": {
   "display_name": "Python 3 (ipykernel)",
   "language": "python",
   "name": "python3"
  },
  "language_info": {
   "codemirror_mode": {
    "name": "ipython",
    "version": 3
   },
   "file_extension": ".py",
   "mimetype": "text/x-python",
   "name": "python",
   "nbconvert_exporter": "python",
   "pygments_lexer": "ipython3",
   "version": "3.11.5"
  }
 },
 "nbformat": 4,
 "nbformat_minor": 5
}
